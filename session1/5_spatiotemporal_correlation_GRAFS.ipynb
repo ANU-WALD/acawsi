{
 "cells": [
  {
   "cell_type": "markdown",
   "metadata": {},
   "source": [
    "# Spatial and Temporal Correlation Analysis\n",
    "\n",
    "This tutorial demonstrates: \n",
    "\n",
    "1. how to extract time series of one grid cell and compare with point measurement\n",
    "\n",
    "2. how to map the statistical relationship between two spatio-temporal variables. \n",
    "\n",
    "It also covers the following technical concepts:\n",
    "\n",
    "* subsetting netCDF data from OPeNDAP\n",
    "* grid extraction\n",
    "* linear and rank correlation and their statistical significance.\n",
    "* grid resampling (temporal, spatial)"
   ]
  },
  {
   "cell_type": "code",
   "execution_count": null,
   "metadata": {},
   "outputs": [],
   "source": [
    "# As usual, we start with our imports\n",
    "import xarray as xr\n",
    "import numpy as np\n",
    "import pandas as pd\n",
    "\n",
    "import matplotlib.pyplot as plt\n",
    "import seaborn\n",
    "%matplotlib inline\n",
    "seaborn.set_style('dark')"
   ]
  },
  {
   "cell_type": "markdown",
   "metadata": {},
   "source": [
    "### 1. validation of soil moisture estimation\n",
    "\n",
    "In this task, we will evaluate the surface soil moisture estimation from S-GRAFS (Satellite-Guided Root-zone Analysis and Forecasting System) with in-situ soil moisture measurements from OzFlux network.\n",
    "\n",
    "The S-GRAFS used a 'data-heavy, model-lite' approach to estimate surface soil wetness and root-zone soil wetness. The system was developed by Siyuan Tian and Luigi Renzullo from ANU-WALD to provide global near real time soil moisture. The near real-time passive microwave retrievals of top-layer (0-5 cm) soil moisture from the Soil Moisture Active/Passive (SMAP) were assimilated into a satellite rainfall (GPM, Global Precipitation Mission) driven soil moisture modelling system. \n",
    "\n",
    "OzFlux is a national ecosystem research network set up to provide the Australian and global ecosystem modelling communities with nationally consistent observations of energy, carbon and water exchange between the atmosphere and key Australian ecosystems.\n",
    "\n",
    "These data are on the National Computational Infrastructure (NCI) and available through THREDDS:\n",
    "\n",
    "S-GRAFS: \n",
    "http://dapds00.nci.org.au/thredds/catalog/ub8/au/S-GRAFS/catalog.html\n",
    "\n",
    "OzFlux:\n",
    "http://dap.ozflux.org.au/thredds/catalog.html\n"
   ]
  },
  {
   "cell_type": "markdown",
   "metadata": {},
   "source": [
    "<img src=\"./data/OzFlux_sites.png\" alt=\"drawing\" width=\"1000\" align=\"left\"/>"
   ]
  },
  {
   "cell_type": "markdown",
   "metadata": {},
   "source": [
    "### 1.1 loading and subsetting model data\n",
    "\n",
    "We will look at daily soil moisture at 10km resolution from S-GRAFS for a region in south western New South Wales [-34.5, -36],[145.5, 147.000]"
   ]
  },
  {
   "cell_type": "code",
   "execution_count": null,
   "metadata": {},
   "outputs": [],
   "source": [
    "grafs_url = 'http://dapds00.nci.org.au/thredds/dodsC/ub8/au/S-GRAFS/Surface_Wetness_from_API_analysis_window_Australia_2016.nc'"
   ]
  },
  {
   "cell_type": "code",
   "execution_count": null,
   "metadata": {},
   "outputs": [],
   "source": [
    "ds = xr.open_dataset(grafs_url)\n",
    "ds"
   ]
  },
  {
   "cell_type": "markdown",
   "metadata": {},
   "source": [
    "#### Can you select all the data in the bounding box [-34.5, -36],[145.5, 147.000] ?"
   ]
  },
  {
   "cell_type": "code",
   "execution_count": null,
   "metadata": {},
   "outputs": [],
   "source": [
    "# select all the data in the bounding box\n",
    "lat_bounds = slice(-34.5, -36)\n",
    "lon_bounds = slice(145.5, 147.000)\n",
    "\n",
    "grafs_s0 = "
   ]
  },
  {
   "cell_type": "code",
   "execution_count": null,
   "metadata": {
    "scrolled": true
   },
   "outputs": [],
   "source": [
    "# plot the soil wetness for selected days\n",
    "grafs_s0.wetness.sel(time=slice('2016-06-01','2016-06-04')).plot.imshow(col='time',col_wrap=4, \\\n",
    "                                                                        cmap='gist_earth_r',robust=True)"
   ]
  },
  {
   "cell_type": "markdown",
   "metadata": {},
   "source": [
    "### 1.2 extracting time series \n",
    "\n",
    "There is one soil moinitoring site from OzFlux network in this region called 'Yanco'. The GPS coordinates is -34.9893, 146.2907. \n",
    "\n",
    "We will extract the time series of soil wetness for the closest grid cell and compare with in-situ measurements"
   ]
  },
  {
   "cell_type": "markdown",
   "metadata": {},
   "source": [
    "####  Can you find the nearest model grid to the in-situ site and plot the time-series of the model-simulated soil wetness?"
   ]
  },
  {
   "cell_type": "code",
   "execution_count": 1,
   "metadata": {},
   "outputs": [],
   "source": [
    "# find the nearest grid in model \n",
    "\n",
    "# plot the time-series of model-simulated soil wetness\n"
   ]
  },
  {
   "cell_type": "markdown",
   "metadata": {},
   "source": [
    "### 1.3 loading and processing the in-situ soil moisture measurements\n",
    "\n",
    "The gound measurements of soil moisture is collected every 30mins. We will need to resample the data to daily average and compare with model simulation. Note that in-situ data always contain gaps or suspicious values. Data filtering is required. \n",
    "\n",
    "The data variable for surface soil moisture in the netCDF is called 'Sws'. "
   ]
  },
  {
   "cell_type": "code",
   "execution_count": null,
   "metadata": {},
   "outputs": [],
   "source": [
    "yanco_insitu = 'http://dap.ozflux.org.au/thredds/dodsC/ozflux/sites/Yanco/L3/default/Yanco_L3.nc'\n",
    "yanco = xr.open_dataset(yanco_insitu)"
   ]
  },
  {
   "cell_type": "code",
   "execution_count": null,
   "metadata": {},
   "outputs": [],
   "source": [
    "# check the temporal resolution and coverage\n",
    "yanco.time"
   ]
  },
  {
   "cell_type": "markdown",
   "metadata": {},
   "source": [
    "#### Can you plot the in-situ data for 2016 only?"
   ]
  },
  {
   "cell_type": "code",
   "execution_count": null,
   "metadata": {},
   "outputs": [],
   "source": [
    "# plot the data for 2016 only\n"
   ]
  },
  {
   "cell_type": "code",
   "execution_count": null,
   "metadata": {},
   "outputs": [],
   "source": [
    "# the missing values were saved as -9999 \n",
    "yanco.sel(time=slice('2016-01-01','2016-12-31')).Sws.min()"
   ]
  },
  {
   "cell_type": "code",
   "execution_count": null,
   "metadata": {},
   "outputs": [],
   "source": [
    "# select soil moisture for 2016 only and asign any negative soil moisture values to NaN\n",
    "yanco_SM = yanco.sel(time=slice('2016-01-01','2016-12-31')).Sws\n",
    "yanco_SM.data[yanco_SM.data<0] = np.nan\n",
    "yanco_SM.plot()"
   ]
  },
  {
   "cell_type": "code",
   "execution_count": null,
   "metadata": {},
   "outputs": [],
   "source": [
    "# resample the 0.5 hourly data to daily average data\n",
    "yanco_daily = yanco_SM.resample(time='1D').mean().squeeze()\n",
    "yanco_daily.plot()"
   ]
  },
  {
   "cell_type": "markdown",
   "metadata": {},
   "source": [
    "#### Can you  resample the data to monthly and every 8-day?"
   ]
  },
  {
   "cell_type": "code",
   "execution_count": null,
   "metadata": {},
   "outputs": [],
   "source": []
  },
  {
   "cell_type": "markdown",
   "metadata": {},
   "source": [
    "#### Let's plot the two time-series"
   ]
  },
  {
   "cell_type": "code",
   "execution_count": null,
   "metadata": {},
   "outputs": [],
   "source": [
    "# compare the model simulated soil moisture with in-situ measurments\n",
    "# plot them in two yaxis since they have different units. \n",
    "fig, ax = plt.subplots(figsize=(10,3))\n",
    "yanco_daily.plot() # in-situ\n",
    "grafs_yanco.plot(color='red') # model "
   ]
  },
  {
   "cell_type": "markdown",
   "metadata": {},
   "source": [
    "### 1.4  correlation analysis\n",
    "\n",
    "we will use the `pearsonr` and `spearmanr` functions from SciPy\n",
    "to calculate the correlation between model soil moisture and in-situ soil moisture.\n",
    "The linear (or Pearson, or parametric) correlation coefficient is the most \n",
    "commonly measure the strength of the relationship between two variables. It \n",
    "is particularly well suited if both variables are close to normally distributed \n",
    "and a linear relationship can be assumed. If the relationship seems non-linear,\n",
    "then it would be better to calculate the rank(or Spearman, or non-parametric) correlation coefficient.\n",
    "\n",
    "In any event, it is always a good idea to always check whether the rank \n",
    "correlation is very different from the linear correlation coefficient. If the \n",
    "two approaches produce _R_- and _p_-values, that lead to similar conclusions, \n",
    "then that strengthens your analysis. "
   ]
  },
  {
   "cell_type": "code",
   "execution_count": null,
   "metadata": {},
   "outputs": [],
   "source": [
    "# import modules\n",
    "from scipy.stats import linregress, pearsonr, spearmanr"
   ]
  },
  {
   "cell_type": "code",
   "execution_count": null,
   "metadata": {},
   "outputs": [],
   "source": [
    "linregress(yanco_daily, grafs_yanco)"
   ]
  },
  {
   "cell_type": "markdown",
   "metadata": {},
   "source": [
    "#### Can you find the indices where values in both data sets are not NaN?"
   ]
  },
  {
   "cell_type": "code",
   "execution_count": null,
   "metadata": {},
   "outputs": [],
   "source": [
    "# NaNs have to be removed "
   ]
  },
  {
   "cell_type": "code",
   "execution_count": null,
   "metadata": {},
   "outputs": [],
   "source": [
    "linregress(yanco_daily[notnan], grafs_yanco[notnan])"
   ]
  },
  {
   "cell_type": "code",
   "execution_count": null,
   "metadata": {},
   "outputs": [],
   "source": [
    "spearmanr(yanco_daily[notnan], grafs_yanco[notnan])"
   ]
  },
  {
   "cell_type": "code",
   "execution_count": null,
   "metadata": {},
   "outputs": [],
   "source": [
    "pearsonr(yanco_daily[notnan], grafs_yanco[notnan])"
   ]
  },
  {
   "cell_type": "markdown",
   "metadata": {},
   "source": [
    "## 2 statistical relationship between two spatio-temporal variables\n",
    "\n",
    "It is well kown that fuel moisture content (FMC) is an important fuel property for assessing wildfire hazard, since it influences fuel flammability and fire behavior.\n",
    "\n",
    "What about surface soil moisture? If surface is wet, the fire risk should be low. There should be a strong negative correlation. Let's have a look at the soil moisture conditions and flammability over the grassland areas in this region\n",
    "\n",
    "The flammability data were developed by Marta Yebra using MODIS data and the data are available here: http://dapds00.nci.org.au/thredds/catalog/ub8/au/FMC/c6/mosaics/catalog.html\n",
    "\n",
    "The flammability data is updated very 8-day. To simply the case, we will resample the data to monthly data."
   ]
  },
  {
   "cell_type": "markdown",
   "metadata": {},
   "source": [
    "### 2.1 comparing data with different time and spatial resolution"
   ]
  },
  {
   "cell_type": "code",
   "execution_count": null,
   "metadata": {},
   "outputs": [],
   "source": [
    "flam_url = 'http://dapds00.nci.org.au/thredds/dodsC/ub8/au/FMC/c6/mosaics/flam_c6_2016.nc'\n",
    "flammability = xr.open_dataset(flam_url).sel(latitude=lat_bounds, longitude=lon_bounds)\n",
    "flam_monthly = flammability.resample(time='1M').mean()"
   ]
  },
  {
   "cell_type": "code",
   "execution_count": null,
   "metadata": {},
   "outputs": [],
   "source": [
    "# resample the soil moisture data to monthly soil moisture\n",
    "grafs_s0_monthly = grafs_s0.resample(time='1M').mean()"
   ]
  },
  {
   "cell_type": "code",
   "execution_count": null,
   "metadata": {},
   "outputs": [],
   "source": [
    "grafs_s0_monthly.wetness.plot.imshow(col='time',col_wrap=6, cmap='gist_earth_r',robust=True)"
   ]
  },
  {
   "cell_type": "code",
   "execution_count": null,
   "metadata": {},
   "outputs": [],
   "source": [
    "flam_monthly.flammability.plot.imshow(col='time',col_wrap=6, cmap='OrRd',robust=True)"
   ]
  },
  {
   "cell_type": "markdown",
   "metadata": {},
   "source": [
    "### 2.2 resample the data to a same spatial resolution\n",
    "\n",
    "The flammability data is ~0.005deg resolution, whereas the soil moisture is 0.1deg. We will use the funtion `griddata` from scipy.interpolate to resample flammability data to 10km to be consistent with soil moisture data"
   ]
  },
  {
   "cell_type": "code",
   "execution_count": null,
   "metadata": {},
   "outputs": [],
   "source": [
    "from scipy.interpolate import griddata"
   ]
  },
  {
   "cell_type": "code",
   "execution_count": null,
   "metadata": {},
   "outputs": [],
   "source": [
    "help(griddata)"
   ]
  },
  {
   "cell_type": "code",
   "execution_count": null,
   "metadata": {},
   "outputs": [],
   "source": [
    "# use np.meshgrid to make N-D coordinate arrays for vectorized evaluations of N-D scalar/vector fields over N-D grids\n",
    "lon,lat = np.meshgrid(flam_monthly.longitude,flam_monthly.latitude.data) #original resolution\n",
    "lonnew,latnew = np.meshgrid(grafs_s0.lon,grafs_s0.lat) #target resolution\n",
    "lonnew.shape"
   ]
  },
  {
   "cell_type": "code",
   "execution_count": null,
   "metadata": {},
   "outputs": [],
   "source": [
    "data = flam_monthly.isel(time=0).flammability.data\n",
    "output = griddata((lat.ravel(),lon.ravel()),\\\n",
    "                      data.ravel(),(latnew,lonnew), method='linear',fill_value=np.nan)"
   ]
  },
  {
   "cell_type": "code",
   "execution_count": null,
   "metadata": {},
   "outputs": [],
   "source": [
    "# checked the output of the resampled data\n",
    "plt.figure(figsize=(15,5))\n",
    "plt.subplot(121)\n",
    "plt.imshow(data)\n",
    "plt.subplot(122)\n",
    "plt.imshow(output)"
   ]
  },
  {
   "cell_type": "markdown",
   "metadata": {},
   "source": [
    "#### Now, we will resample all the monthly fammability data to 10km to calculate the temporal correlation for each pixel"
   ]
  },
  {
   "cell_type": "code",
   "execution_count": null,
   "metadata": {},
   "outputs": [],
   "source": [
    "# create a dataset for the resampled flammability \n",
    "flam_10km = xr.Dataset(coords={'latitude': grafs_s0.lat.data, 'longitude': grafs_s0.lon.data,'time':flam_monthly.time})\n",
    "flam_10km['flammability'] = (('time','latitude','longitude'), np.zeros((12,15,15)))\n",
    "flam_10km.attrs = flam_monthly.attrs"
   ]
  },
  {
   "cell_type": "code",
   "execution_count": null,
   "metadata": {},
   "outputs": [],
   "source": [
    "# for all time step \n",
    "for timestamp in flam_monthly.time:\n",
    "    # Start by selecting the timestamp\n",
    "    print(timestamp.data)\n",
    "    \n",
    "    # your code here\n",
    "    \n",
    "     "
   ]
  },
  {
   "cell_type": "code",
   "execution_count": null,
   "metadata": {},
   "outputs": [],
   "source": [
    "# plot the time series\n",
    "flam_10km.flammability.plot.imshow(col='time',col_wrap=6, cmap='OrRd',robust=True)"
   ]
  },
  {
   "cell_type": "markdown",
   "metadata": {},
   "source": [
    "### 2.3 can you calculate the correlation between soil wetness and flammability for each pixel?"
   ]
  },
  {
   "cell_type": "code",
   "execution_count": null,
   "metadata": {},
   "outputs": [],
   "source": []
  },
  {
   "cell_type": "code",
   "execution_count": null,
   "metadata": {},
   "outputs": [],
   "source": []
  },
  {
   "cell_type": "code",
   "execution_count": null,
   "metadata": {},
   "outputs": [],
   "source": []
  },
  {
   "cell_type": "code",
   "execution_count": null,
   "metadata": {},
   "outputs": [],
   "source": []
  }
 ],
 "metadata": {
  "kernelspec": {
   "display_name": "Python 3",
   "language": "python",
   "name": "python3"
  },
  "language_info": {
   "codemirror_mode": {
    "name": "ipython",
    "version": 3
   },
   "file_extension": ".py",
   "mimetype": "text/x-python",
   "name": "python",
   "nbconvert_exporter": "python",
   "pygments_lexer": "ipython3",
   "version": "3.7.4"
  }
 },
 "nbformat": 4,
 "nbformat_minor": 4
}
